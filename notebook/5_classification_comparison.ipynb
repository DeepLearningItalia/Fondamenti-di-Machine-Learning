{
  "nbformat": 4,
  "nbformat_minor": 0,
  "metadata": {
    "colab": {
      "name": "32-classification-comparison.ipynb",
      "provenance": [],
      "collapsed_sections": []
    },
    "kernelspec": {
      "name": "python3",
      "display_name": "Python 3"
    },
    "language_info": {
      "name": "python"
    }
  },
  "cells": [
    {
      "cell_type": "code",
      "execution_count": null,
      "metadata": {
        "id": "uyprDLu3t02N"
      },
      "outputs": [],
      "source": [
        "# load libraries\n",
        "import numpy as np\n",
        "\n",
        "from sklearn import datasets\n",
        "from sklearn.neighbors import KNeighborsClassifier\n",
        "from sklearn.naive_bayes import GaussianNB\n",
        "from sklearn.svm import SVC\n",
        "from sklearn.ensemble import RandomForestClassifier\n",
        "from sklearn import model_selection"
      ]
    },
    {
      "cell_type": "code",
      "metadata": {
        "id": "xZya9dIeMQuZ"
      },
      "source": [
        "# load data\n",
        "iris = datasets.load_iris()"
      ],
      "execution_count": null,
      "outputs": []
    },
    {
      "cell_type": "code",
      "metadata": {
        "id": "F6qjIJZiPLBX"
      },
      "source": [
        "# prepare data\n",
        "X = iris.data\n",
        "y = iris.target"
      ],
      "execution_count": null,
      "outputs": []
    },
    {
      "cell_type": "code",
      "source": [
        "# compare different models on the same data\n",
        "models = []\n",
        "\n",
        "models.append(('KNN', KNeighborsClassifier(n_neighbors=3)))\n",
        "models.append(('NB', GaussianNB()))\n",
        "models.append(('SVM', SVC(kernel='linear', C=1)))\n",
        "models.append(('RF', RandomForestClassifier(max_depth=2)))"
      ],
      "metadata": {
        "id": "6Kl7EVT2vGxv"
      },
      "execution_count": null,
      "outputs": []
    },
    {
      "cell_type": "code",
      "source": [
        "kf = model_selection.KFold(n_splits=10)\n",
        "\n",
        "for name, model in models:\n",
        "    cv_scores = model_selection.cross_val_score(model, X, y, cv=kf)\n",
        "    msg = \"%s:\\t%f (%f)\" % (name, cv_scores.mean(), cv_scores.std())\n",
        "    print(msg)"
      ],
      "metadata": {
        "colab": {
          "base_uri": "https://localhost:8080/"
        },
        "id": "cjT0Pn1hvTWF",
        "outputId": "cab79437-b077-49ef-916c-7e134ea8b4b0"
      },
      "execution_count": null,
      "outputs": [
        {
          "output_type": "stream",
          "name": "stdout",
          "text": [
            "KNN:\t0.946667 (0.065320)\n",
            "NB:\t0.946667 (0.058119)\n",
            "SVM:\t0.960000 (0.053333)\n",
            "RF:\t0.946667 (0.071802)\n"
          ]
        }
      ]
    },
    {
      "cell_type": "markdown",
      "source": [
        "Try \"playing\" with hyperparameters, such as `n_neigbors`, `kernel`, etc. See the API documentation of each method for more details."
      ],
      "metadata": {
        "id": "KYMwVj3iXA0H"
      }
    }
  ]
}