{
  "nbformat": 4,
  "nbformat_minor": 0,
  "metadata": {
    "colab": {
      "name": "8-linear-regression-from-scratch.ipynb",
      "provenance": [],
      "collapsed_sections": []
    },
    "kernelspec": {
      "name": "python3",
      "display_name": "Python 3"
    },
    "language_info": {
      "name": "python"
    }
  },
  "cells": [
    {
      "cell_type": "code",
      "metadata": {
        "id": "h555IloBdnYb"
      },
      "source": [
        "# load libraries\n",
        "import random as rand\n",
        "import numpy as np\n",
        "import matplotlib.pyplot as plt"
      ],
      "execution_count": null,
      "outputs": []
    },
    {
      "cell_type": "code",
      "metadata": {
        "id": "BiSuvVxzd1P8"
      },
      "source": [
        "# create an artificial dataset as a linear function with random noise\n",
        "X = np.arange(50)\n",
        "epsilon = np.random.uniform(-5, 5, X.size)\n",
        "y = 2*X + 3 + epsilon"
      ],
      "execution_count": null,
      "outputs": []
    },
    {
      "cell_type": "code",
      "metadata": {
        "colab": {
          "base_uri": "https://localhost:8080/",
          "height": 265
        },
        "id": "NzWgBZrSd4Eb",
        "outputId": "f8371e4c-9117-48a5-e9bb-1139793a8039"
      },
      "source": [
        "# plot data points\n",
        "plt.scatter(X, y, s=4)\n",
        "plt.show()"
      ],
      "execution_count": null,
      "outputs": [
        {
          "output_type": "display_data",
          "data": {
            "image/png": "[encoded data removed]",
            "text/plain": [
              "<Figure size 432x288 with 1 Axes>"
            ]
          },
          "metadata": {
            "needs_background": "light"
          }
        }
      ]
    },
    {
      "cell_type": "code",
      "metadata": {
        "id": "P9VUEykod5cr"
      },
      "source": [
        "# training routine\n",
        "def fit(X, y, it, alpha):\n",
        "  # initial random guess\n",
        "  b = rand.random()\n",
        "  w = rand.random()\n",
        "\n",
        "  N = X.size\n",
        "\n",
        "  losses = []\n",
        "\n",
        "  for i in range(it):\n",
        "    y_pred = X * w + b\n",
        "    loss = (1/N) * sum((y_pred-y)**2)\n",
        "    losses.append(loss)\n",
        "        \n",
        "    # partial derivatives\n",
        "    dloss_dw = (2/N) * sum((y_pred-y) * X)\n",
        "    dloss_db = (2/N) * sum((y_pred-y))\n",
        "        \n",
        "    # update step\n",
        "    w = w - alpha * dloss_dw\n",
        "    b = b - alpha * dloss_db\n",
        "  \n",
        "  return losses, w, b"
      ],
      "execution_count": null,
      "outputs": []
    },
    {
      "cell_type": "code",
      "metadata": {
        "colab": {
          "base_uri": "https://localhost:8080/"
        },
        "id": "j1I8G38ad9Kj",
        "outputId": "02dd48dd-1ce5-475c-d24e-fe83d70f30c6"
      },
      "source": [
        "# training\n",
        "losses, w, b = fit(X, y, 10, 0.001)\n",
        "w, b"
      ],
      "execution_count": null,
      "outputs": [
        {
          "output_type": "execute_result",
          "data": {
            "text/plain": [
              "(2.0479111658119673, 0.5313572931507625)"
            ]
          },
          "metadata": {},
          "execution_count": 5
        }
      ]
    },
    {
      "cell_type": "code",
      "metadata": {
        "colab": {
          "base_uri": "https://localhost:8080/",
          "height": 265
        },
        "id": "HvNN-vA-d-qT",
        "outputId": "741dab6b-8181-40da-cab9-f2a3cb16ba83"
      },
      "source": [
        "# plot training history\n",
        "plt.plot(losses)\n",
        "plt.show()"
      ],
      "execution_count": null,
      "outputs": [
        {
          "output_type": "display_data",
          "data": {
            "image/png": "[encoded data removed]",
            "text/plain": [
              "<Figure size 432x288 with 1 Axes>"
            ]
          },
          "metadata": {
            "needs_background": "light"
          }
        }
      ]
    },
    {
      "cell_type": "code",
      "metadata": {
        "id": "kMFSdt2nd_zj"
      },
      "source": [
        "# prediction function\n",
        "def predict(x, w, b):\n",
        "  return x * w + b"
      ],
      "execution_count": null,
      "outputs": []
    },
    {
      "cell_type": "code",
      "metadata": {
        "id": "LFZxk3OVeBGj"
      },
      "source": [
        "# make predictions\n",
        "y_pred = []\n",
        "for i in range(X.size):\n",
        "  x = X[i]\n",
        "  y_pred.append(predict(x, w, b))"
      ],
      "execution_count": null,
      "outputs": []
    },
    {
      "cell_type": "code",
      "metadata": {
        "colab": {
          "base_uri": "https://localhost:8080/",
          "height": 265
        },
        "id": "TRNB08y4eDk7",
        "outputId": "53117147-10fc-4aa4-d77c-1d80101dc38f"
      },
      "source": [
        "# plot regression line\n",
        "plt.scatter(X, y, s=4) \n",
        "plt.plot(X, y_pred, color='red')\n",
        "plt.show()"
      ],
      "execution_count": null,
      "outputs": [
        {
          "output_type": "display_data",
          "data": {
            "image/png": "[encoded data removed]",
            "text/plain": [
              "<Figure size 432x288 with 1 Axes>"
            ]
          },
          "metadata": {
            "needs_background": "light"
          }
        }
      ]
    }
  ]
}