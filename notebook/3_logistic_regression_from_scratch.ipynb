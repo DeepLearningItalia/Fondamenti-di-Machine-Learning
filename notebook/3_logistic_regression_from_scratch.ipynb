{
  "nbformat": 4,
  "nbformat_minor": 0,
  "metadata": {
    "colab": {
      "name": "15-logistic-regression-from-scratch.ipynb",
      "provenance": [],
      "collapsed_sections": []
    },
    "kernelspec": {
      "name": "python3",
      "display_name": "Python 3"
    },
    "language_info": {
      "name": "python"
    }
  },
  "cells": [
    {
      "cell_type": "code",
      "metadata": {
        "id": "roDaKvBz1bmj"
      },
      "source": [
        "# load libraries\n",
        "import random as rand\n",
        "import numpy as np\n",
        "import matplotlib.pyplot as plt"
      ],
      "execution_count": null,
      "outputs": []
    },
    {
      "cell_type": "code",
      "metadata": {
        "id": "rrDvBUcT1oq4"
      },
      "source": [
        "# create synthetic data\n",
        "from sklearn.datasets import make_classification\n",
        "X, y = make_classification(random_state=2)"
      ],
      "execution_count": null,
      "outputs": []
    },
    {
      "cell_type": "code",
      "metadata": {
        "id": "BFyAUR_m1th2",
        "colab": {
          "base_uri": "https://localhost:8080/",
          "height": 265
        },
        "outputId": "f7326bbf-2999-487a-80e5-27f28089259c"
      },
      "source": [
        "# let's focus only on one feature\n",
        "X_new = X[:,1]\n",
        "plt.scatter(X_new, y, s=4) \n",
        "plt.show()"
      ],
      "execution_count": null,
      "outputs": [
        {
          "output_type": "display_data",
          "data": {
            "image/png": "[encoded data removed]",
            "text/plain": [
              "<Figure size 432x288 with 1 Axes>"
            ]
          },
          "metadata": {
            "needs_background": "light"
          }
        }
      ]
    },
    {
      "cell_type": "code",
      "metadata": {
        "id": "uqZ3FoR21uHP"
      },
      "source": [
        "# auxiliary functions\n",
        "def sigmoid(z):\n",
        "  return 1 / (1 + np.exp(-z))\n",
        "\n",
        "def sigmoid_derivative(z):\n",
        "  return sigmoid(z) * (1 - sigmoid(z))\n",
        "\n",
        "def predict(x, b, w):\n",
        "  z = x * w + b\n",
        "  return z, sigmoid(z)"
      ],
      "execution_count": null,
      "outputs": []
    },
    {
      "cell_type": "code",
      "metadata": {
        "id": "SJYqJYl91yOX"
      },
      "source": [
        "# training routine\n",
        "def fit(X, y, it, alpha):\n",
        "  b = rand.random()\n",
        "  w = rand.random()\n",
        "\n",
        "  N = X.size\n",
        "\n",
        "  for i in range(it):    \n",
        "    z, y_pred = predict(X, b, w)\n",
        "\n",
        "    dloss_db = (2/N) * sum((y_pred - y) * sigmoid_derivative(z))\n",
        "    dloss_dw = (2/N) * sum((y_pred - y) * sigmoid_derivative(z) * X)\n",
        "\n",
        "    b = b - alpha * dloss_db\n",
        "    w = w - alpha * dloss_dw\n",
        "\n",
        "  return b, w"
      ],
      "execution_count": null,
      "outputs": []
    },
    {
      "cell_type": "code",
      "metadata": {
        "id": "VRiIDbpC15IW",
        "colab": {
          "base_uri": "https://localhost:8080/",
          "height": 265
        },
        "outputId": "66a99f45-278f-4f92-a23a-0176c327f601"
      },
      "source": [
        "# make predictions\n",
        "b, w = fit(X_new, y, 100, 0.1)\n",
        "\n",
        "y_pred = []\n",
        "for i in range(X_new.size):\n",
        "  x = X_new[i]\n",
        "  _, pred = predict(x, b, w)\n",
        "  y_pred.append(pred)\n",
        "\n",
        "plt.scatter(X_new, y, s=4) \n",
        "plt.scatter(X_new, y_pred, color='red', s=2)\n",
        "plt.show()"
      ],
      "execution_count": null,
      "outputs": [
        {
          "output_type": "display_data",
          "data": {
            "image/png": "[encoded data removed]",
            "text/plain": [
              "<Figure size 432x288 with 1 Axes>"
            ]
          },
          "metadata": {
            "needs_background": "light"
          }
        }
      ]
    }
  ]
}